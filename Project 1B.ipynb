{
 "cells": [
  {
   "cell_type": "markdown",
   "id": "dc0dd1a9",
   "metadata": {},
   "source": [
    "### This trains and tests various models on data obtained from the school's admissions office regarding applicants, to predict which of those applicants will subsequently enroll, and which will withdraw their application."
   ]
  },
  {
   "cell_type": "code",
   "execution_count": 1,
   "id": "b6975497",
   "metadata": {
    "id": "faa7b635"
   },
   "outputs": [],
   "source": [
    "import pandas as pd, numpy as np, os\n",
    "from sklearn import metrics\n",
    "from matplotlib import pyplot as plt\n",
    "stdata=pd.read_excel('./applicants_since_2000.xlsx')"
   ]
  },
  {
   "cell_type": "markdown",
   "id": "14c801e5",
   "metadata": {},
   "source": [
    "After some EDA, a number of variables are in need of wrangling- State applied, and Nation applied ought to be combined"
   ]
  },
  {
   "cell_type": "code",
   "execution_count": 2,
   "id": "aaa7c192",
   "metadata": {
    "id": "faa7b635"
   },
   "outputs": [],
   "source": [
    "stdata.loc[pd.notnull(stdata['state_applied']) & pd.isnull(stdata['nation_applied']), 'nation_applied']=\"USA\"\n",
    "stdata['hs_location']=np.where(stdata['hs_country'].notnull(), stdata['hs_country'], stdata['hs_state'])\n",
    "stdata=stdata.drop(columns=['hs_country','hs_city', 'hs_state','state_applied','student'], axis=1)"
   ]
  },
  {
   "cell_type": "code",
   "execution_count": 3,
   "id": "38f4f0c9",
   "metadata": {},
   "outputs": [
    {
     "data": {
      "image/png": "[encoded data removed]",
      "text/plain": [
       "<Figure size 640x480 with 1 Axes>"
      ]
     },
     "metadata": {},
     "output_type": "display_data"
    }
   ],
   "source": [
    "stdata.hist('enrolled')\n",
    "plt.show()"
   ]
  },
  {
   "cell_type": "code",
   "execution_count": 4,
   "id": "a9992ae5",
   "metadata": {},
   "outputs": [
    {
     "data": {
      "text/plain": [
       "NY           11966\n",
       "NJ            6314\n",
       "CA            2130\n",
       "FL            1770\n",
       "MD            1479\n",
       "             ...  \n",
       "LA               1\n",
       "CHINA            1\n",
       "JAMAICA          1\n",
       "NICARAGUA        1\n",
       "AUSTRALIA        1\n",
       "Name: hs_location, Length: 79, dtype: int64"
      ]
     },
     "execution_count": 4,
     "metadata": {},
     "output_type": "execute_result"
    }
   ],
   "source": [
    "stdata.hs_location.value_counts()"
   ]
  },
  {
   "cell_type": "code",
   "execution_count": 5,
   "id": "66f1197c",
   "metadata": {},
   "outputs": [],
   "source": [
    "hsloc=stdata.hs_location.value_counts()\n",
    "hsrareloc=hsloc[hsloc.values<100].index.values\n",
    "stdata['hs_location']=np.where(stdata['hs_location'].isin(hsrareloc),\"UNUSUAL\",stdata['hs_location'])"
   ]
  },
  {
   "cell_type": "code",
   "execution_count": 6,
   "id": "e12e0501",
   "metadata": {},
   "outputs": [
    {
     "data": {
      "text/plain": [
       "NY                11966\n",
       "NJ                 6314\n",
       "CA                 2130\n",
       "FL                 1770\n",
       "MD                 1479\n",
       "IL                 1460\n",
       "CANADA              817\n",
       "UNUSUAL             764\n",
       "PA                  714\n",
       "OH                  679\n",
       "Unknown Nation      597\n",
       "MA                  555\n",
       "TX                  352\n",
       "MI                  310\n",
       "GA                  276\n",
       "TN                  206\n",
       "MO                  206\n",
       "CT                  177\n",
       "WA                  175\n",
       "PANAMA              159\n",
       "Name: hs_location, dtype: int64"
      ]
     },
     "execution_count": 6,
     "metadata": {},
     "output_type": "execute_result"
    }
   ],
   "source": [
    "stdata['hs_location'].value_counts()"
   ]
  },
  {
   "cell_type": "code",
   "execution_count": 7,
   "id": "66070efc",
   "metadata": {},
   "outputs": [
    {
     "data": {
      "text/plain": [
       "USA                   30761\n",
       "CANADA                  903\n",
       "CHINA                   439\n",
       "ISRAEL                  331\n",
       "FRANCE                  240\n",
       "Exotic                  203\n",
       "PANAMA                  200\n",
       "MOROCCO                 156\n",
       "UNITED KINGDOM           62\n",
       "VENEZUELA                56\n",
       "SOUTH AFRICA             56\n",
       "BRAZIL                   36\n",
       "ITALY                    30\n",
       "BELGIUM                  29\n",
       "CHILE                    29\n",
       "ARGENTINA                28\n",
       "RUSSIAN FEDERATION       23\n",
       "MEXICO                   23\n",
       "COLOMBIA                 20\n",
       "GERMANY                  19\n",
       "SWITZERLAND              15\n",
       "UKRAINE                  15\n",
       "Name: nation_applied, dtype: int64"
      ]
     },
     "execution_count": 7,
     "metadata": {},
     "output_type": "execute_result"
    }
   ],
   "source": [
    "natnapp=stdata.nation_applied.value_counts()\n",
    "rareapp=natnapp[natnapp.values<15].index.values\n",
    "stdata['nation_applied']=np.where(stdata['nation_applied'].isin(rareapp),\"Exotic\",stdata['nation_applied'])\n",
    "stdata.nation_applied.value_counts()"
   ]
  },
  {
   "cell_type": "code",
   "execution_count": 8,
   "id": "448dbd57",
   "metadata": {},
   "outputs": [
    {
     "data": {
      "text/plain": [
       "UND     8602\n",
       "0000    5840\n",
       "BUS     4389\n",
       "BIO     3096\n",
       "PSY     2475\n",
       "PRE      907\n",
       "COM      885\n",
       "POL      775\n",
       "MAT      672\n",
       "ACC      639\n",
       "EDU      627\n",
       "ENG      609\n",
       "SHA      461\n",
       "HIS      438\n",
       "ECO      434\n",
       "MISC     420\n",
       "JST      384\n",
       "CHE      339\n",
       "PRH      223\n",
       "PHY      184\n",
       "FIN      181\n",
       "LAW      141\n",
       "SPAU     141\n",
       "SOC      140\n",
       "PHI      136\n",
       "JED      103\n",
       "MED      101\n",
       "SCW       90\n",
       "ART       87\n",
       "MAR       85\n",
       "BC        79\n",
       "BANA      79\n",
       "MUS       75\n",
       "SENT      56\n",
       "Name: major_applied, dtype: int64"
      ]
     },
     "execution_count": 8,
     "metadata": {},
     "output_type": "execute_result"
    }
   ],
   "source": [
    "majlist=stdata.major_applied.value_counts()\n",
    "uncmajor=majlist[majlist.values<50].index.values\n",
    "stdata['major_applied']=np.where(stdata['major_applied'].isin(uncmajor),\"MISC\",stdata['major_applied'])\n",
    "stdata.major_applied.value_counts()"
   ]
  },
  {
   "cell_type": "code",
   "execution_count": 9,
   "id": "96ed52d3",
   "metadata": {},
   "outputs": [
    {
     "data": {
      "text/html": [
       "<div>\n",
       "<style scoped>\n",
       "    .dataframe tbody tr th:only-of-type {\n",
       "        vertical-align: middle;\n",
       "    }\n",
       "\n",
       "    .dataframe tbody tr th {\n",
       "        vertical-align: top;\n",
       "    }\n",
       "\n",
       "    .dataframe thead th {\n",
       "        text-align: right;\n",
       "    }\n",
       "</style>\n",
       "<table border=\"1\" class=\"dataframe\">\n",
       "  <thead>\n",
       "    <tr style=\"text-align: right;\">\n",
       "      <th></th>\n",
       "      <th>enrolled</th>\n",
       "      <th>aidpct</th>\n",
       "      <th>act_composite</th>\n",
       "      <th>sat_total</th>\n",
       "    </tr>\n",
       "  </thead>\n",
       "  <tbody>\n",
       "    <tr>\n",
       "      <th>count</th>\n",
       "      <td>33893.000000</td>\n",
       "      <td>33893.000000</td>\n",
       "      <td>8268.000000</td>\n",
       "      <td>22110.000000</td>\n",
       "    </tr>\n",
       "    <tr>\n",
       "      <th>mean</th>\n",
       "      <td>0.520373</td>\n",
       "      <td>39.458472</td>\n",
       "      <td>26.165215</td>\n",
       "      <td>1210.719493</td>\n",
       "    </tr>\n",
       "    <tr>\n",
       "      <th>std</th>\n",
       "      <td>0.499592</td>\n",
       "      <td>42.162733</td>\n",
       "      <td>4.412151</td>\n",
       "      <td>170.309025</td>\n",
       "    </tr>\n",
       "    <tr>\n",
       "      <th>min</th>\n",
       "      <td>0.000000</td>\n",
       "      <td>0.000000</td>\n",
       "      <td>7.000000</td>\n",
       "      <td>420.000000</td>\n",
       "    </tr>\n",
       "    <tr>\n",
       "      <th>25%</th>\n",
       "      <td>0.000000</td>\n",
       "      <td>0.000000</td>\n",
       "      <td>23.000000</td>\n",
       "      <td>1100.000000</td>\n",
       "    </tr>\n",
       "    <tr>\n",
       "      <th>50%</th>\n",
       "      <td>1.000000</td>\n",
       "      <td>32.000000</td>\n",
       "      <td>26.000000</td>\n",
       "      <td>1210.000000</td>\n",
       "    </tr>\n",
       "    <tr>\n",
       "      <th>75%</th>\n",
       "      <td>1.000000</td>\n",
       "      <td>69.000000</td>\n",
       "      <td>30.000000</td>\n",
       "      <td>1340.000000</td>\n",
       "    </tr>\n",
       "    <tr>\n",
       "      <th>max</th>\n",
       "      <td>1.000000</td>\n",
       "      <td>1000.000000</td>\n",
       "      <td>36.000000</td>\n",
       "      <td>1600.000000</td>\n",
       "    </tr>\n",
       "  </tbody>\n",
       "</table>\n",
       "</div>"
      ],
      "text/plain": [
       "           enrolled        aidpct  act_composite     sat_total\n",
       "count  33893.000000  33893.000000    8268.000000  22110.000000\n",
       "mean       0.520373     39.458472      26.165215   1210.719493\n",
       "std        0.499592     42.162733       4.412151    170.309025\n",
       "min        0.000000      0.000000       7.000000    420.000000\n",
       "25%        0.000000      0.000000      23.000000   1100.000000\n",
       "50%        1.000000     32.000000      26.000000   1210.000000\n",
       "75%        1.000000     69.000000      30.000000   1340.000000\n",
       "max        1.000000   1000.000000      36.000000   1600.000000"
      ]
     },
     "execution_count": 9,
     "metadata": {},
     "output_type": "execute_result"
    }
   ],
   "source": [
    "stdata.describe()"
   ]
  },
  {
   "cell_type": "code",
   "execution_count": 10,
   "id": "e550292c",
   "metadata": {},
   "outputs": [
    {
     "data": {
      "text/html": [
       "<div>\n",
       "<style scoped>\n",
       "    .dataframe tbody tr th:only-of-type {\n",
       "        vertical-align: middle;\n",
       "    }\n",
       "\n",
       "    .dataframe tbody tr th {\n",
       "        vertical-align: top;\n",
       "    }\n",
       "\n",
       "    .dataframe thead th {\n",
       "        text-align: right;\n",
       "    }\n",
       "</style>\n",
       "<table border=\"1\" class=\"dataframe\">\n",
       "  <thead>\n",
       "    <tr style=\"text-align: right;\">\n",
       "      <th></th>\n",
       "      <th>enrolled</th>\n",
       "      <th>aidpct</th>\n",
       "      <th>act_composite</th>\n",
       "      <th>sat_total</th>\n",
       "    </tr>\n",
       "  </thead>\n",
       "  <tbody>\n",
       "    <tr>\n",
       "      <th>count</th>\n",
       "      <td>33893.000000</td>\n",
       "      <td>33893.000000</td>\n",
       "      <td>8268.000000</td>\n",
       "      <td>22110.000000</td>\n",
       "    </tr>\n",
       "    <tr>\n",
       "      <th>mean</th>\n",
       "      <td>0.520373</td>\n",
       "      <td>38.193403</td>\n",
       "      <td>26.165215</td>\n",
       "      <td>1210.719493</td>\n",
       "    </tr>\n",
       "    <tr>\n",
       "      <th>std</th>\n",
       "      <td>0.499592</td>\n",
       "      <td>38.338292</td>\n",
       "      <td>4.412151</td>\n",
       "      <td>170.309025</td>\n",
       "    </tr>\n",
       "    <tr>\n",
       "      <th>min</th>\n",
       "      <td>0.000000</td>\n",
       "      <td>0.000000</td>\n",
       "      <td>7.000000</td>\n",
       "      <td>420.000000</td>\n",
       "    </tr>\n",
       "    <tr>\n",
       "      <th>25%</th>\n",
       "      <td>0.000000</td>\n",
       "      <td>0.000000</td>\n",
       "      <td>23.000000</td>\n",
       "      <td>1100.000000</td>\n",
       "    </tr>\n",
       "    <tr>\n",
       "      <th>50%</th>\n",
       "      <td>1.000000</td>\n",
       "      <td>32.000000</td>\n",
       "      <td>26.000000</td>\n",
       "      <td>1210.000000</td>\n",
       "    </tr>\n",
       "    <tr>\n",
       "      <th>75%</th>\n",
       "      <td>1.000000</td>\n",
       "      <td>69.000000</td>\n",
       "      <td>30.000000</td>\n",
       "      <td>1340.000000</td>\n",
       "    </tr>\n",
       "    <tr>\n",
       "      <th>max</th>\n",
       "      <td>1.000000</td>\n",
       "      <td>120.000000</td>\n",
       "      <td>36.000000</td>\n",
       "      <td>1600.000000</td>\n",
       "    </tr>\n",
       "  </tbody>\n",
       "</table>\n",
       "</div>"
      ],
      "text/plain": [
       "           enrolled        aidpct  act_composite     sat_total\n",
       "count  33893.000000  33893.000000    8268.000000  22110.000000\n",
       "mean       0.520373     38.193403      26.165215   1210.719493\n",
       "std        0.499592     38.338292       4.412151    170.309025\n",
       "min        0.000000      0.000000       7.000000    420.000000\n",
       "25%        0.000000      0.000000      23.000000   1100.000000\n",
       "50%        1.000000     32.000000      26.000000   1210.000000\n",
       "75%        1.000000     69.000000      30.000000   1340.000000\n",
       "max        1.000000    120.000000      36.000000   1600.000000"
      ]
     },
     "execution_count": 10,
     "metadata": {},
     "output_type": "execute_result"
    }
   ],
   "source": [
    "stdata['aidpct']=np.where(stdata['aidpct']>120, 120, stdata['aidpct'])\n",
    "stdata.describe()"
   ]
  },
  {
   "cell_type": "code",
   "execution_count": 11,
   "id": "d14783bd",
   "metadata": {},
   "outputs": [
    {
     "data": {
      "image/png": "[encoded data removed]",
      "text/plain": [
       "<Figure size 640x480 with 1 Axes>"
      ]
     },
     "metadata": {},
     "output_type": "display_data"
    }
   ],
   "source": [
    "stdata.boxplot('aidpct',by='enrolled')\n",
    "plt.show()"
   ]
  },
  {
   "cell_type": "code",
   "execution_count": 12,
   "id": "41a8833a",
   "metadata": {},
   "outputs": [
    {
     "data": {
      "text/plain": [
       "(-0.001, 20.0]    15063\n",
       "(20.0, 50.0]       6260\n",
       "(50.0, 75.0]       5735\n",
       "(75.0, 100.0]      4535\n",
       "(100.0, 126.0]     2300\n",
       "Name: aidbin, dtype: int64"
      ]
     },
     "execution_count": 12,
     "metadata": {},
     "output_type": "execute_result"
    }
   ],
   "source": [
    "stdata['aidbin']=pd.cut(stdata['aidpct'],[0,20,50,75,100,126], include_lowest=True)\n",
    "stdata.aidbin.value_counts()"
   ]
  },
  {
   "cell_type": "markdown",
   "id": "2d6d1564",
   "metadata": {},
   "source": [
    "The SAT and ACT scores measure the same thing, but on different scales, so we convert the ACT into SAT using the tables provided by CollegeBoard."
   ]
  },
  {
   "cell_type": "code",
   "execution_count": 13,
   "id": "8d761552",
   "metadata": {
    "id": "faa7b635"
   },
   "outputs": [],
   "source": [
    "actsat={36:1590,35:1540,34:1500,33:1460,32:1430,31:1400,30:1370,29:1340,28:1310,27:1280,\n",
    "        26:1240,25:1210,24:1180,23:1140,22:1110,21:1080,20:1040,19:1010,18:970,17:930,16:890,15:850,\n",
    "        14:800,13:760,12:710,11:670,10:630,9:590}"
   ]
  },
  {
   "cell_type": "code",
   "execution_count": 14,
   "id": "a0e898cb",
   "metadata": {},
   "outputs": [],
   "source": [
    "stdata=stdata.drop(columns='aidpct')"
   ]
  },
  {
   "cell_type": "code",
   "execution_count": 15,
   "id": "67c211f4",
   "metadata": {},
   "outputs": [
    {
     "data": {
      "image/png": "[encoded data removed]",
      "text/plain": [
       "<Figure size 640x480 with 1 Axes>"
      ]
     },
     "metadata": {},
     "output_type": "display_data"
    }
   ],
   "source": [
    "stdata.boxplot('sat_total', by='enrolled')\n",
    "plt.show()"
   ]
  },
  {
   "cell_type": "code",
   "execution_count": 16,
   "id": "323a8b3a",
   "metadata": {
    "id": "faa7b635"
   },
   "outputs": [],
   "source": [
    "from sklearn.model_selection import train_test_split\n",
    "dftrain, dftest, targettrain, targettest = train_test_split(stdata.drop(columns='enrolled'),stdata['enrolled'], test_size=.2, random_state=2)\n"
   ]
  },
  {
   "cell_type": "code",
   "execution_count": 17,
   "id": "92d0a1ef",
   "metadata": {
    "id": "faa7b635"
   },
   "outputs": [],
   "source": [
    "cities=dftrain.city_applied.value_counts()"
   ]
  },
  {
   "cell_type": "code",
   "execution_count": 18,
   "id": "9b1637f7",
   "metadata": {
    "id": "faa7b635"
   },
   "outputs": [],
   "source": [
    "bigcities=cities[cities.values>100].index.values\n",
    "dftrain['big_city']=dftrain['city_applied'].isin(bigcities).astype(int)\n",
    "dftrain=dftrain.drop(columns='city_applied', axis=1)"
   ]
  },
  {
   "cell_type": "code",
   "execution_count": 19,
   "id": "faa7b635",
   "metadata": {
    "id": "faa7b635"
   },
   "outputs": [],
   "source": [
    "dftrain.loc[(dftrain['sat_total'] <500),'sat_total' ]=np.nan\n",
    "dftrain.loc[(dftrain['act_composite'] <9),'act_composite' ]=np.nan\n",
    "dftrain['sat_act']=np.where(dftrain.act_composite.notnull(), dftrain['act_composite'].replace(actsat), dftrain.sat_total)\n",
    "satmean=dftrain.sat_act.mean()\n",
    "dftrain['sat_act']=dftrain['sat_act'].fillna(int(satmean))\n",
    "dftrain=dftrain.drop(columns=['act_composite','sat_total'], axis=1)\n",
    "dftrain['hs_gpa']=pd.to_numeric(dftrain.hs_gpa, errors='coerce')"
   ]
  },
  {
   "cell_type": "code",
   "execution_count": 20,
   "id": "1229bb02",
   "metadata": {
    "id": "1229bb02"
   },
   "outputs": [],
   "source": [
    "dftrain['sat_act']=(dftrain['sat_act']/5).round().astype(int)*5"
   ]
  },
  {
   "cell_type": "code",
   "execution_count": 21,
   "id": "feb8d0f2",
   "metadata": {
    "id": "feb8d0f2"
   },
   "outputs": [],
   "source": [
    "dftrain.loc[(dftrain['hs_gpa'] > 120)|(dftrain['hs_gpa'] < 60) | (pd.isnull(dftrain['hs_gpa'])),'hs_gpa' ]=np.nan"
   ]
  },
  {
   "cell_type": "code",
   "execution_count": 22,
   "id": "322ddc98",
   "metadata": {
    "id": "322ddc98"
   },
   "outputs": [],
   "source": [
    "hsgpamedian=dftrain.hs_gpa.median()\n",
    "dftrain['hs_gpa']=dftrain['hs_gpa'].fillna(hsgpamedian)"
   ]
  },
  {
   "cell_type": "code",
   "execution_count": 23,
   "id": "15b7c2ba",
   "metadata": {
    "id": "15b7c2ba"
   },
   "outputs": [],
   "source": [
    "dftrain['hs_gpa']=dftrain['hs_gpa'].round(2)"
   ]
  },
  {
   "cell_type": "code",
   "execution_count": 24,
   "id": "df44bdb3",
   "metadata": {},
   "outputs": [
    {
     "name": "stdout",
     "output_type": "stream",
     "text": [
      "<class 'pandas.core.frame.DataFrame'>\n",
      "Int64Index: 27114 entries, 32189 to 23720\n",
      "Data columns (total 10 columns):\n",
      " #   Column          Non-Null Count  Dtype   \n",
      "---  ------          --------------  -----   \n",
      " 0   college         27114 non-null  object  \n",
      " 1   major_applied   27114 non-null  object  \n",
      " 2   gender          27114 non-null  object  \n",
      " 3   nation_applied  26937 non-null  object  \n",
      " 4   hs_gpa          27114 non-null  float64 \n",
      " 5   ethnicity       27114 non-null  object  \n",
      " 6   hs_location     24854 non-null  object  \n",
      " 7   aidbin          27114 non-null  category\n",
      " 8   big_city        27114 non-null  int32   \n",
      " 9   sat_act         27114 non-null  int32   \n",
      "dtypes: category(1), float64(1), int32(2), object(6)\n",
      "memory usage: 1.9+ MB\n"
     ]
    }
   ],
   "source": [
    "dftrain.info()"
   ]
  },
  {
   "cell_type": "code",
   "execution_count": 25,
   "id": "3f8e65bb",
   "metadata": {},
   "outputs": [
    {
     "data": {
      "text/plain": [
       "<Figure size 640x480 with 0 Axes>"
      ]
     },
     "metadata": {},
     "output_type": "display_data"
    },
    {
     "data": {
      "image/png": "[encoded data removed]",
      "text/plain": [
       "<Figure size 640x480 with 1 Axes>"
      ]
     },
     "metadata": {},
     "output_type": "display_data"
    }
   ],
   "source": [
    "plt.cla()\n",
    "plt.clf()\n",
    "dftrain.boxplot('sat_act', by='college')\n",
    "plt.show()"
   ]
  },
  {
   "cell_type": "code",
   "execution_count": 26,
   "id": "c787a361",
   "metadata": {
    "colab": {
     "base_uri": "https://localhost:8080/"
    },
    "id": "c787a361",
    "outputId": "368ef67e-1d8b-478e-f2c9-8b5c4a631239"
   },
   "outputs": [
    {
     "data": {
      "text/plain": [
       "(27114, 98)"
      ]
     },
     "execution_count": 26,
     "metadata": {},
     "output_type": "execute_result"
    }
   ],
   "source": [
    "dftrain2=pd.get_dummies(dftrain)\n",
    "dftrain2.shape # Just checking"
   ]
  },
  {
   "cell_type": "code",
   "execution_count": 27,
   "id": "032262f6",
   "metadata": {},
   "outputs": [
    {
     "data": {
      "text/plain": [
       "count    27114.000000\n",
       "mean        89.407820\n",
       "std          5.211251\n",
       "min         60.030000\n",
       "25%         86.430000\n",
       "50%         90.000000\n",
       "75%         93.000000\n",
       "max        109.000000\n",
       "Name: hs_gpa, dtype: float64"
      ]
     },
     "execution_count": 27,
     "metadata": {},
     "output_type": "execute_result"
    }
   ],
   "source": [
    "dftrain2.hs_gpa.describe()"
   ]
  },
  {
   "cell_type": "code",
   "execution_count": 28,
   "id": "e7b27263",
   "metadata": {},
   "outputs": [
    {
     "data": {
      "text/plain": [
       "32189    90.97\n",
       "25031    90.00\n",
       "3128     90.56\n",
       "6266     85.50\n",
       "25566    96.00\n",
       "         ...  \n",
       "26287    86.00\n",
       "4171     98.10\n",
       "2868     87.68\n",
       "11913    88.00\n",
       "27321    93.10\n",
       "Name: hs_gpa, Length: 100, dtype: float64"
      ]
     },
     "execution_count": 28,
     "metadata": {},
     "output_type": "execute_result"
    }
   ],
   "source": [
    "dftrain2.hs_gpa.head(100)"
   ]
  },
  {
   "cell_type": "code",
   "execution_count": 29,
   "id": "bc12420a",
   "metadata": {},
   "outputs": [
    {
     "data": {
      "image/png": "[encoded data removed]",
      "text/plain": [
       "<Figure size 640x480 with 1 Axes>"
      ]
     },
     "metadata": {},
     "output_type": "display_data"
    }
   ],
   "source": [
    "#dftrain2.hist(column='hs_gpa')\n",
    "dftrain2.hist('sat_act')\n",
    "plt.show()"
   ]
  },
  {
   "cell_type": "code",
   "execution_count": 30,
   "id": "d35ca759",
   "metadata": {},
   "outputs": [
    {
     "data": {
      "image/png": "[encoded data removed]",
      "text/plain": [
       "<Figure size 640x480 with 1 Axes>"
      ]
     },
     "metadata": {},
     "output_type": "display_data"
    }
   ],
   "source": [
    "dftrain2.boxplot('hs_gpa')\n",
    "plt.show()"
   ]
  },
  {
   "cell_type": "code",
   "execution_count": 31,
   "id": "bed895a0",
   "metadata": {
    "id": "bed895a0"
   },
   "outputs": [],
   "source": [
    "# Checking for nulls\n",
    "for x in dftrain2.columns :\n",
    "    if dftrain2[x].isnull().sum()!=0:\n",
    "        print (x, dftrain2[x].isnull().sum())"
   ]
  },
  {
   "cell_type": "code",
   "execution_count": 32,
   "id": "188a7d46",
   "metadata": {
    "id": "188a7d46"
   },
   "outputs": [],
   "source": [
    "# Eliminating the duplicates gender field:\n",
    "dftrain2=dftrain2.drop(columns='gender_F')"
   ]
  },
  {
   "cell_type": "code",
   "execution_count": 33,
   "id": "26fa4de1",
   "metadata": {
    "id": "26fa4de1"
   },
   "outputs": [],
   "source": [
    "from sklearn.preprocessing import MinMaxScaler, StandardScaler"
   ]
  },
  {
   "cell_type": "code",
   "execution_count": 34,
   "id": "5147a909",
   "metadata": {
    "colab": {
     "base_uri": "https://localhost:8080/",
     "height": 317
    },
    "id": "42328cc5",
    "outputId": "f40bffb7-4c0b-4496-d91f-79d5014b7d02"
   },
   "outputs": [],
   "source": [
    "# Only the HS GPA and SAT/ACT fields need scaling\n",
    "st=MinMaxScaler()\n",
    "st2=MinMaxScaler() # for later\n",
    "stf=st.fit(dftrain2[['hs_gpa','sat_act']])\n",
    "st2f=st2.fit(dftrain2[['hs_gpa','sat_act']]) # for later"
   ]
  },
  {
   "cell_type": "code",
   "execution_count": 35,
   "id": "42328cc5",
   "metadata": {
    "colab": {
     "base_uri": "https://localhost:8080/",
     "height": 317
    },
    "id": "42328cc5",
    "outputId": "f40bffb7-4c0b-4496-d91f-79d5014b7d02"
   },
   "outputs": [],
   "source": [
    "dttwocols=st.fit_transform(dftrain2[['hs_gpa','sat_act']])\n",
    "dftrain2['hs_gpa']=dttwocols[:,0]\n",
    "dftrain2['sat_act']=dttwocols[:,1]"
   ]
  },
  {
   "cell_type": "code",
   "execution_count": 36,
   "id": "75f9a171",
   "metadata": {
    "id": "75f9a171"
   },
   "outputs": [],
   "source": [
    "dt=dftrain2\n",
    "dt = dt.reindex(sorted(dt.columns), axis=1)"
   ]
  },
  {
   "cell_type": "markdown",
   "id": "vVAVD3kuK9hZ",
   "metadata": {
    "id": "vVAVD3kuK9hZ"
   },
   "source": [
    "Now that we alphabetized the columns (necessary for later), we can train our model!\n",
    "\n",
    "Let's start with a KNN classifier with 2 neighbors:"
   ]
  },
  {
   "cell_type": "code",
   "execution_count": 37,
   "id": "f912433c",
   "metadata": {
    "id": "f912433c"
   },
   "outputs": [],
   "source": [
    "from sklearn.neighbors import KNeighborsClassifier\n",
    "from sklearn import metrics\n",
    "kn=KNeighborsClassifier(n_neighbors=2, n_jobs=-1)\n",
    "knmodel=kn.fit(dt,targettrain)\n",
    "knpredict=kn.predict(dt)"
   ]
  },
  {
   "cell_type": "code",
   "execution_count": 38,
   "id": "70d35ec8",
   "metadata": {
    "colab": {
     "base_uri": "https://localhost:8080/"
    },
    "id": "70d35ec8",
    "outputId": "7cc801fd-40df-4c64-ff15-6f58b4ace6e4"
   },
   "outputs": [
    {
     "data": {
      "text/plain": [
       "array([[13005,     6],\n",
       "       [ 5191,  8912]], dtype=int64)"
      ]
     },
     "execution_count": 38,
     "metadata": {},
     "output_type": "execute_result"
    }
   ],
   "source": [
    "metrics.confusion_matrix(targettrain, knpredict)"
   ]
  },
  {
   "cell_type": "code",
   "execution_count": 39,
   "id": "03aa68d8",
   "metadata": {
    "colab": {
     "base_uri": "https://localhost:8080/"
    },
    "id": "03aa68d8",
    "outputId": "d1cbb5d8-9c0e-41d5-f790-8c5c62d97128"
   },
   "outputs": [
    {
     "data": {
      "text/plain": [
       "0.8083278011359445"
      ]
     },
     "execution_count": 39,
     "metadata": {},
     "output_type": "execute_result"
    }
   ],
   "source": [
    "kn.score(dt,targettrain)"
   ]
  },
  {
   "cell_type": "code",
   "execution_count": 40,
   "id": "ea364db0",
   "metadata": {},
   "outputs": [
    {
     "name": "stdout",
     "output_type": "stream",
     "text": [
      "              precision    recall  f1-score   support\n",
      "\n",
      "           0       0.71      1.00      0.83     13011\n",
      "           1       1.00      0.63      0.77     14103\n",
      "\n",
      "    accuracy                           0.81     27114\n",
      "   macro avg       0.86      0.82      0.80     27114\n",
      "weighted avg       0.86      0.81      0.80     27114\n",
      "\n"
     ]
    }
   ],
   "source": [
    "print(metrics.classification_report(targettrain,knpredict))"
   ]
  },
  {
   "cell_type": "markdown",
   "id": "4442898e",
   "metadata": {},
   "source": [
    "This might be perfect for our needs- since it will advise the admissions office of applicants who we expect will not come, and of those we are almost definitely correct."
   ]
  },
  {
   "cell_type": "code",
   "execution_count": 41,
   "id": "f9ee728e",
   "metadata": {
    "id": "f9ee728e"
   },
   "outputs": [],
   "source": [
    "from sklearn.model_selection import GridSearchCV\n",
    "from sklearn.pipeline import Pipeline\n",
    "kn2=KNeighborsClassifier()\n",
    "pipe=Pipeline([(\"knn\", kn2)])\n",
    "search_space = [{\"knn__n_neighbors\": [1, 3, 5, 7, 9]}]\n",
    "bkn = GridSearchCV(pipe, search_space, cv=5, n_jobs=-1, verbose=0).fit(dt, targettrain)"
   ]
  },
  {
   "cell_type": "code",
   "execution_count": 42,
   "id": "76a0f0ba",
   "metadata": {
    "colab": {
     "base_uri": "https://localhost:8080/"
    },
    "id": "76a0f0ba",
    "outputId": "268307b0-f866-4da9-9fad-72d77580ef9e"
   },
   "outputs": [
    {
     "data": {
      "text/plain": [
       "9"
      ]
     },
     "execution_count": 42,
     "metadata": {},
     "output_type": "execute_result"
    }
   ],
   "source": [
    "bkn.best_estimator_.get_params()[\"knn__n_neighbors\"]"
   ]
  },
  {
   "cell_type": "code",
   "execution_count": 43,
   "id": "2XE25TaHpHqr",
   "metadata": {
    "colab": {
     "base_uri": "https://localhost:8080/"
    },
    "id": "2XE25TaHpHqr",
    "outputId": "42d86848-66cb-4a1b-9ae0-61fa0bc7bc47"
   },
   "outputs": [
    {
     "name": "stdout",
     "output_type": "stream",
     "text": [
      "0.742937228000295\n",
      "[[ 9629  3382]\n",
      " [ 3588 10515]]\n"
     ]
    }
   ],
   "source": [
    "kn3=KNeighborsClassifier(n_neighbors=9, n_jobs=-1)\n",
    "pipe2=Pipeline([(\"knn\", kn3)])\n",
    "model2=pipe2.fit(dt, targettrain)\n",
    "print(model2.score(dt,targettrain))\n",
    "modelpredict=pipe2.predict(dt)\n",
    "print(metrics.confusion_matrix(targettrain,modelpredict))\n"
   ]
  },
  {
   "cell_type": "markdown",
   "id": "1a38255a",
   "metadata": {},
   "source": [
    "Now the big test! the test data!"
   ]
  },
  {
   "cell_type": "code",
   "execution_count": 44,
   "id": "df2731b4",
   "metadata": {
    "colab": {
     "base_uri": "https://localhost:8080/",
     "height": 224
    },
    "id": "df2731b4",
    "outputId": "3c91906d-a454-4cf5-b976-3086b8307a7a"
   },
   "outputs": [
    {
     "name": "stdout",
     "output_type": "stream",
     "text": [
      "(6779, 10)\n"
     ]
    },
    {
     "data": {
      "text/html": [
       "<div>\n",
       "<style scoped>\n",
       "    .dataframe tbody tr th:only-of-type {\n",
       "        vertical-align: middle;\n",
       "    }\n",
       "\n",
       "    .dataframe tbody tr th {\n",
       "        vertical-align: top;\n",
       "    }\n",
       "\n",
       "    .dataframe thead th {\n",
       "        text-align: right;\n",
       "    }\n",
       "</style>\n",
       "<table border=\"1\" class=\"dataframe\">\n",
       "  <thead>\n",
       "    <tr style=\"text-align: right;\">\n",
       "      <th></th>\n",
       "      <th>college</th>\n",
       "      <th>major_applied</th>\n",
       "      <th>gender</th>\n",
       "      <th>nation_applied</th>\n",
       "      <th>hs_gpa</th>\n",
       "      <th>ethnicity</th>\n",
       "      <th>hs_location</th>\n",
       "      <th>aidbin</th>\n",
       "      <th>big_city</th>\n",
       "      <th>sat_act</th>\n",
       "    </tr>\n",
       "  </thead>\n",
       "  <tbody>\n",
       "    <tr>\n",
       "      <th>11157</th>\n",
       "      <td>YC</td>\n",
       "      <td>PSY</td>\n",
       "      <td>M</td>\n",
       "      <td>USA</td>\n",
       "      <td>92.00</td>\n",
       "      <td>8. White</td>\n",
       "      <td>MD</td>\n",
       "      <td>(-0.001, 20.0]</td>\n",
       "      <td>1</td>\n",
       "      <td>1350</td>\n",
       "    </tr>\n",
       "    <tr>\n",
       "      <th>19246</th>\n",
       "      <td>YC</td>\n",
       "      <td>UND</td>\n",
       "      <td>M</td>\n",
       "      <td>USA</td>\n",
       "      <td>75.89</td>\n",
       "      <td>8. White</td>\n",
       "      <td>NJ</td>\n",
       "      <td>(75.0, 100.0]</td>\n",
       "      <td>0</td>\n",
       "      <td>1010</td>\n",
       "    </tr>\n",
       "    <tr>\n",
       "      <th>23485</th>\n",
       "      <td>YC</td>\n",
       "      <td>0000</td>\n",
       "      <td>M</td>\n",
       "      <td>USA</td>\n",
       "      <td>98.06</td>\n",
       "      <td>8. White</td>\n",
       "      <td>NJ</td>\n",
       "      <td>(75.0, 100.0]</td>\n",
       "      <td>0</td>\n",
       "      <td>1410</td>\n",
       "    </tr>\n",
       "    <tr>\n",
       "      <th>8515</th>\n",
       "      <td>YC</td>\n",
       "      <td>UND</td>\n",
       "      <td>M</td>\n",
       "      <td>FRANCE</td>\n",
       "      <td>90.00</td>\n",
       "      <td>8. White</td>\n",
       "      <td>NaN</td>\n",
       "      <td>(50.0, 75.0]</td>\n",
       "      <td>0</td>\n",
       "      <td>1220</td>\n",
       "    </tr>\n",
       "    <tr>\n",
       "      <th>20911</th>\n",
       "      <td>YC</td>\n",
       "      <td>0000</td>\n",
       "      <td>M</td>\n",
       "      <td>USA</td>\n",
       "      <td>91.66</td>\n",
       "      <td>8. White</td>\n",
       "      <td>NY</td>\n",
       "      <td>(20.0, 50.0]</td>\n",
       "      <td>1</td>\n",
       "      <td>1140</td>\n",
       "    </tr>\n",
       "  </tbody>\n",
       "</table>\n",
       "</div>"
      ],
      "text/plain": [
       "      college major_applied gender nation_applied  hs_gpa ethnicity  \\\n",
       "11157      YC           PSY      M            USA   92.00  8. White   \n",
       "19246      YC           UND      M            USA   75.89  8. White   \n",
       "23485      YC          0000      M            USA   98.06  8. White   \n",
       "8515       YC           UND      M         FRANCE   90.00  8. White   \n",
       "20911      YC          0000      M            USA   91.66  8. White   \n",
       "\n",
       "      hs_location          aidbin  big_city  sat_act  \n",
       "11157          MD  (-0.001, 20.0]         1     1350  \n",
       "19246          NJ   (75.0, 100.0]         0     1010  \n",
       "23485          NJ   (75.0, 100.0]         0     1410  \n",
       "8515          NaN    (50.0, 75.0]         0     1220  \n",
       "20911          NY    (20.0, 50.0]         1     1140  "
      ]
     },
     "execution_count": 44,
     "metadata": {},
     "output_type": "execute_result"
    }
   ],
   "source": [
    "dftest['big_city']=dftest['city_applied'].isin(bigcities).astype(int)\n",
    "dftest=dftest.drop(columns='city_applied', axis=1)\n",
    "dftest['sat_act']=np.where(dftest.act_composite.notnull(), dftest['act_composite'].replace(actsat), dftest.sat_total)\n",
    "dftest['sat_act']=dftest['sat_act'].fillna(satmean)\n",
    "dftest=dftest.drop(columns=['act_composite','sat_total'], axis=1)\n",
    "dftest['hs_gpa']=pd.to_numeric(dftest.hs_gpa, errors='coerce')\n",
    "dftest['sat_act']=(dftest['sat_act']/5).round().astype(int)*5\n",
    "dftest.loc[(dftest['hs_gpa'] > 120) | (dftest['hs_gpa'] < 60) | (pd.isnull(dftest['hs_gpa'])),'hs_gpa' ]=np.nan\n",
    "dftest['hs_gpa']=dftest['hs_gpa'].fillna(hsgpamedian)\n",
    "dftest['hs_gpa']=dftest['hs_gpa'].round(2)\n",
    "\n",
    "print(dftest.shape)\n",
    "dftest.head()\n",
    "\n"
   ]
  },
  {
   "cell_type": "code",
   "execution_count": 45,
   "id": "IzkhmZGE5CWq",
   "metadata": {
    "id": "IzkhmZGE5CWq"
   },
   "outputs": [],
   "source": [
    "dftest2=pd.get_dummies(dftest)\n",
    "dftest2=dftest2.drop(columns='gender_F')"
   ]
  },
  {
   "cell_type": "code",
   "execution_count": 46,
   "id": "qCu-pjNj2Um4",
   "metadata": {
    "colab": {
     "base_uri": "https://localhost:8080/"
    },
    "id": "qCu-pjNj2Um4",
    "outputId": "e4339ce9-302e-4991-e99a-084461aab97b"
   },
   "outputs": [
    {
     "data": {
      "text/plain": [
       "(6779, 96)"
      ]
     },
     "execution_count": 46,
     "metadata": {},
     "output_type": "execute_result"
    }
   ],
   "source": [
    "dftest2.shape"
   ]
  },
  {
   "cell_type": "code",
   "execution_count": 47,
   "id": "cb273452",
   "metadata": {
    "id": "cb273452"
   },
   "outputs": [],
   "source": [
    "dtst2=st2.transform(dftest2[['hs_gpa','sat_act']])"
   ]
  },
  {
   "cell_type": "code",
   "execution_count": 48,
   "id": "94be928d",
   "metadata": {
    "colab": {
     "base_uri": "https://localhost:8080/",
     "height": 317
    },
    "id": "94be928d",
    "outputId": "f00340d6-146e-433d-b671-1ac83c170257"
   },
   "outputs": [
    {
     "data": {
      "text/html": [
       "<div>\n",
       "<style scoped>\n",
       "    .dataframe tbody tr th:only-of-type {\n",
       "        vertical-align: middle;\n",
       "    }\n",
       "\n",
       "    .dataframe tbody tr th {\n",
       "        vertical-align: top;\n",
       "    }\n",
       "\n",
       "    .dataframe thead th {\n",
       "        text-align: right;\n",
       "    }\n",
       "</style>\n",
       "<table border=\"1\" class=\"dataframe\">\n",
       "  <thead>\n",
       "    <tr style=\"text-align: right;\">\n",
       "      <th></th>\n",
       "      <th>hs_gpa</th>\n",
       "      <th>big_city</th>\n",
       "      <th>sat_act</th>\n",
       "      <th>college_ST</th>\n",
       "      <th>college_SY</th>\n",
       "      <th>college_YC</th>\n",
       "      <th>major_applied_0000</th>\n",
       "      <th>major_applied_ACC</th>\n",
       "      <th>major_applied_ART</th>\n",
       "      <th>major_applied_BANA</th>\n",
       "      <th>...</th>\n",
       "      <th>hs_location_TN</th>\n",
       "      <th>hs_location_TX</th>\n",
       "      <th>hs_location_UNUSUAL</th>\n",
       "      <th>hs_location_Unknown Nation</th>\n",
       "      <th>hs_location_WA</th>\n",
       "      <th>aidbin_(-0.001, 20.0]</th>\n",
       "      <th>aidbin_(20.0, 50.0]</th>\n",
       "      <th>aidbin_(50.0, 75.0]</th>\n",
       "      <th>aidbin_(75.0, 100.0]</th>\n",
       "      <th>aidbin_(100.0, 126.0]</th>\n",
       "    </tr>\n",
       "  </thead>\n",
       "  <tbody>\n",
       "    <tr>\n",
       "      <th>11157</th>\n",
       "      <td>0.652849</td>\n",
       "      <td>1</td>\n",
       "      <td>0.770642</td>\n",
       "      <td>0</td>\n",
       "      <td>0</td>\n",
       "      <td>1</td>\n",
       "      <td>0</td>\n",
       "      <td>0</td>\n",
       "      <td>0</td>\n",
       "      <td>0</td>\n",
       "      <td>...</td>\n",
       "      <td>0</td>\n",
       "      <td>0</td>\n",
       "      <td>0</td>\n",
       "      <td>0</td>\n",
       "      <td>0</td>\n",
       "      <td>1</td>\n",
       "      <td>0</td>\n",
       "      <td>0</td>\n",
       "      <td>0</td>\n",
       "      <td>0</td>\n",
       "    </tr>\n",
       "    <tr>\n",
       "      <th>19246</th>\n",
       "      <td>0.323872</td>\n",
       "      <td>0</td>\n",
       "      <td>0.458716</td>\n",
       "      <td>0</td>\n",
       "      <td>0</td>\n",
       "      <td>1</td>\n",
       "      <td>0</td>\n",
       "      <td>0</td>\n",
       "      <td>0</td>\n",
       "      <td>0</td>\n",
       "      <td>...</td>\n",
       "      <td>0</td>\n",
       "      <td>0</td>\n",
       "      <td>0</td>\n",
       "      <td>0</td>\n",
       "      <td>0</td>\n",
       "      <td>0</td>\n",
       "      <td>0</td>\n",
       "      <td>0</td>\n",
       "      <td>1</td>\n",
       "      <td>0</td>\n",
       "    </tr>\n",
       "    <tr>\n",
       "      <th>23485</th>\n",
       "      <td>0.776598</td>\n",
       "      <td>0</td>\n",
       "      <td>0.825688</td>\n",
       "      <td>0</td>\n",
       "      <td>0</td>\n",
       "      <td>1</td>\n",
       "      <td>1</td>\n",
       "      <td>0</td>\n",
       "      <td>0</td>\n",
       "      <td>0</td>\n",
       "      <td>...</td>\n",
       "      <td>0</td>\n",
       "      <td>0</td>\n",
       "      <td>0</td>\n",
       "      <td>0</td>\n",
       "      <td>0</td>\n",
       "      <td>0</td>\n",
       "      <td>0</td>\n",
       "      <td>0</td>\n",
       "      <td>1</td>\n",
       "      <td>0</td>\n",
       "    </tr>\n",
       "    <tr>\n",
       "      <th>8515</th>\n",
       "      <td>0.612007</td>\n",
       "      <td>0</td>\n",
       "      <td>0.651376</td>\n",
       "      <td>0</td>\n",
       "      <td>0</td>\n",
       "      <td>1</td>\n",
       "      <td>0</td>\n",
       "      <td>0</td>\n",
       "      <td>0</td>\n",
       "      <td>0</td>\n",
       "      <td>...</td>\n",
       "      <td>0</td>\n",
       "      <td>0</td>\n",
       "      <td>0</td>\n",
       "      <td>0</td>\n",
       "      <td>0</td>\n",
       "      <td>0</td>\n",
       "      <td>0</td>\n",
       "      <td>1</td>\n",
       "      <td>0</td>\n",
       "      <td>0</td>\n",
       "    </tr>\n",
       "    <tr>\n",
       "      <th>20911</th>\n",
       "      <td>0.645906</td>\n",
       "      <td>1</td>\n",
       "      <td>0.577982</td>\n",
       "      <td>0</td>\n",
       "      <td>0</td>\n",
       "      <td>1</td>\n",
       "      <td>1</td>\n",
       "      <td>0</td>\n",
       "      <td>0</td>\n",
       "      <td>0</td>\n",
       "      <td>...</td>\n",
       "      <td>0</td>\n",
       "      <td>0</td>\n",
       "      <td>0</td>\n",
       "      <td>0</td>\n",
       "      <td>0</td>\n",
       "      <td>0</td>\n",
       "      <td>1</td>\n",
       "      <td>0</td>\n",
       "      <td>0</td>\n",
       "      <td>0</td>\n",
       "    </tr>\n",
       "  </tbody>\n",
       "</table>\n",
       "<p>5 rows × 96 columns</p>\n",
       "</div>"
      ],
      "text/plain": [
       "         hs_gpa  big_city   sat_act  college_ST  college_SY  college_YC  \\\n",
       "11157  0.652849         1  0.770642           0           0           1   \n",
       "19246  0.323872         0  0.458716           0           0           1   \n",
       "23485  0.776598         0  0.825688           0           0           1   \n",
       "8515   0.612007         0  0.651376           0           0           1   \n",
       "20911  0.645906         1  0.577982           0           0           1   \n",
       "\n",
       "       major_applied_0000  major_applied_ACC  major_applied_ART  \\\n",
       "11157                   0                  0                  0   \n",
       "19246                   0                  0                  0   \n",
       "23485                   1                  0                  0   \n",
       "8515                    0                  0                  0   \n",
       "20911                   1                  0                  0   \n",
       "\n",
       "       major_applied_BANA  ...  hs_location_TN  hs_location_TX  \\\n",
       "11157                   0  ...               0               0   \n",
       "19246                   0  ...               0               0   \n",
       "23485                   0  ...               0               0   \n",
       "8515                    0  ...               0               0   \n",
       "20911                   0  ...               0               0   \n",
       "\n",
       "       hs_location_UNUSUAL  hs_location_Unknown Nation  hs_location_WA  \\\n",
       "11157                    0                           0               0   \n",
       "19246                    0                           0               0   \n",
       "23485                    0                           0               0   \n",
       "8515                     0                           0               0   \n",
       "20911                    0                           0               0   \n",
       "\n",
       "       aidbin_(-0.001, 20.0]  aidbin_(20.0, 50.0]  aidbin_(50.0, 75.0]  \\\n",
       "11157                      1                    0                    0   \n",
       "19246                      0                    0                    0   \n",
       "23485                      0                    0                    0   \n",
       "8515                       0                    0                    1   \n",
       "20911                      0                    1                    0   \n",
       "\n",
       "       aidbin_(75.0, 100.0]  aidbin_(100.0, 126.0]  \n",
       "11157                     0                      0  \n",
       "19246                     1                      0  \n",
       "23485                     1                      0  \n",
       "8515                      0                      0  \n",
       "20911                     0                      0  \n",
       "\n",
       "[5 rows x 96 columns]"
      ]
     },
     "execution_count": 48,
     "metadata": {},
     "output_type": "execute_result"
    }
   ],
   "source": [
    "dftest2['hs_gpa']=dtst2[:,0]\n",
    "dftest2['sat_act']=dtst2[:,1]\n",
    "dftest2.head()"
   ]
  },
  {
   "cell_type": "code",
   "execution_count": 49,
   "id": "29f52252",
   "metadata": {
    "id": "29f52252"
   },
   "outputs": [],
   "source": [
    "features=dftest2.columns.values"
   ]
  },
  {
   "cell_type": "markdown",
   "id": "562a42a5",
   "metadata": {},
   "source": [
    "Not sure how the missing columns in the test data will affect the model...\n",
    "ok so now we know- it breaks it!\n",
    "Create 0 columns with the missing columns..."
   ]
  },
  {
   "cell_type": "code",
   "execution_count": 50,
   "id": "48a9d057",
   "metadata": {
    "colab": {
     "base_uri": "https://localhost:8080/"
    },
    "id": "48a9d057",
    "outputId": "737a2e3a-ff02-44d9-c853-9dd11a4edf95"
   },
   "outputs": [
    {
     "data": {
      "text/plain": [
       "(6779, 96)"
      ]
     },
     "execution_count": 50,
     "metadata": {},
     "output_type": "execute_result"
    }
   ],
   "source": [
    "for x in dftest2.columns.values:\n",
    "    if x not in features:\n",
    "        y=str(x)\n",
    "        dftest2=dftest2.drop(y, axis=1)\n",
    "dftest2.shape        "
   ]
  },
  {
   "cell_type": "code",
   "execution_count": 51,
   "id": "85ca83d3",
   "metadata": {
    "colab": {
     "base_uri": "https://localhost:8080/"
    },
    "id": "85ca83d3",
    "outputId": "0acfda32-1e85-41c8-c623-84a04c76beda"
   },
   "outputs": [
    {
     "data": {
      "text/plain": [
       "(6779, 97)"
      ]
     },
     "execution_count": 51,
     "metadata": {},
     "output_type": "execute_result"
    }
   ],
   "source": [
    "for x in dt.columns.values:\n",
    "    if x not in dftest2.columns.values:\n",
    "        dftest2[x]=0\n",
    "dftest2.shape        "
   ]
  },
  {
   "cell_type": "code",
   "execution_count": 52,
   "id": "0a9f3655",
   "metadata": {
    "id": "0a9f3655"
   },
   "outputs": [],
   "source": [
    "dftest2 = dftest2.reindex(sorted(dftest2.columns), axis=1)"
   ]
  },
  {
   "cell_type": "code",
   "execution_count": 53,
   "id": "a26f2fb2",
   "metadata": {
    "colab": {
     "base_uri": "https://localhost:8080/"
    },
    "id": "a26f2fb2",
    "outputId": "5eca44b0-05e4-4ea1-eb18-01cbee8c7c0e"
   },
   "outputs": [
    {
     "name": "stdout",
     "output_type": "stream",
     "text": [
      "[[2198 1047]\n",
      " [1116 2418]]\n",
      "              precision    recall  f1-score   support\n",
      "\n",
      "           0       0.66      0.68      0.67      3245\n",
      "           1       0.70      0.68      0.69      3534\n",
      "\n",
      "    accuracy                           0.68      6779\n",
      "   macro avg       0.68      0.68      0.68      6779\n",
      "weighted avg       0.68      0.68      0.68      6779\n",
      "\n"
     ]
    }
   ],
   "source": [
    "testpred=kn3.predict(dftest2)\n",
    "print(metrics.confusion_matrix(targettest,testpred))\n",
    "print(metrics.classification_report(targettest,testpred))"
   ]
  },
  {
   "cell_type": "code",
   "execution_count": 54,
   "id": "MbQx1ghG-p5h",
   "metadata": {
    "id": "MbQx1ghG-p5h"
   },
   "outputs": [
    {
     "name": "stdout",
     "output_type": "stream",
     "text": [
      "[[2614  631]\n",
      " [1973 1561]]\n",
      "0.6158725475733884\n"
     ]
    }
   ],
   "source": [
    "# Try the first one with 2 neighbors\n",
    "testpred2n=kn.predict(dftest2)\n",
    "print(metrics.confusion_matrix(targettest,testpred2n))\n",
    "print(kn.score(dftest2,targettest))"
   ]
  },
  {
   "cell_type": "code",
   "execution_count": 55,
   "id": "31527b9c",
   "metadata": {
    "colab": {
     "base_uri": "https://localhost:8080/"
    },
    "id": "31527b9c",
    "outputId": "ff81e2b6-d0dc-4fbf-d2c3-41b17024d90b"
   },
   "outputs": [
    {
     "data": {
      "text/plain": [
       "0.6809263903230565"
      ]
     },
     "execution_count": 55,
     "metadata": {},
     "output_type": "execute_result"
    }
   ],
   "source": [
    "kn3.score(dftest2,targettest)"
   ]
  },
  {
   "cell_type": "markdown",
   "id": "v7236BxwNQnJ",
   "metadata": {
    "id": "v7236BxwNQnJ"
   },
   "source": [
    "*** NEW CODE FOR MILESTONE 4 OF TERM PROJECT ***"
   ]
  },
  {
   "cell_type": "markdown",
   "id": "L_a0BsimC2sU",
   "metadata": {
    "id": "L_a0BsimC2sU"
   },
   "source": [
    "Since these have been disappointing, and essentially useless, let's try another model:"
   ]
  },
  {
   "cell_type": "code",
   "execution_count": 56,
   "id": "P5Mu0Fp6C-m3",
   "metadata": {
    "colab": {
     "base_uri": "https://localhost:8080/"
    },
    "id": "P5Mu0Fp6C-m3",
    "outputId": "82f9d22d-faa6-4386-b1c3-a58d5804fac0"
   },
   "outputs": [
    {
     "data": {
      "text/plain": [
       "0.7018514420594527"
      ]
     },
     "execution_count": 56,
     "metadata": {},
     "output_type": "execute_result"
    }
   ],
   "source": [
    "# Logistic Regression:\n",
    "from sklearn.linear_model import LogisticRegression\n",
    "logreg=LogisticRegression(random_state=1, max_iter=1000)\n",
    "logregmodel=logreg.fit(dt, targettrain)\n",
    "logregmodel.score(dt, targettrain)"
   ]
  },
  {
   "cell_type": "code",
   "execution_count": 57,
   "id": "q814GMUGEiqm",
   "metadata": {
    "colab": {
     "base_uri": "https://localhost:8080/"
    },
    "id": "q814GMUGEiqm",
    "outputId": "4408fdff-e0fa-4fe6-9445-76bb8ab4a1b0"
   },
   "outputs": [
    {
     "name": "stdout",
     "output_type": "stream",
     "text": [
      "0.7037911196341643\n",
      "              precision    recall  f1-score   support\n",
      "\n",
      "           0       0.69      0.68      0.69      3245\n",
      "           1       0.71      0.72      0.72      3534\n",
      "\n",
      "    accuracy                           0.70      6779\n",
      "   macro avg       0.70      0.70      0.70      6779\n",
      "weighted avg       0.70      0.70      0.70      6779\n",
      "\n",
      "[[2218 1027]\n",
      " [ 981 2553]]\n"
     ]
    }
   ],
   "source": [
    "print(logregmodel.score(dftest2, targettest))\n",
    "logregpred=logregmodel.predict(dftest2)\n",
    "print(metrics.classification_report(targettest,logregpred))\n",
    "print(metrics.confusion_matrix(targettest,logregpred))"
   ]
  },
  {
   "cell_type": "markdown",
   "id": "AvhX1cTPH_j0",
   "metadata": {
    "id": "AvhX1cTPH_j0"
   },
   "source": [
    "That was slightly better than KNN.\n",
    "Let's try random forest classifier"
   ]
  },
  {
   "cell_type": "code",
   "execution_count": 58,
   "id": "wLaUCuf-FT7M",
   "metadata": {
    "colab": {
     "base_uri": "https://localhost:8080/"
    },
    "id": "wLaUCuf-FT7M",
    "outputId": "fe2fd0fd-090b-4ebe-f931-e856bb501293"
   },
   "outputs": [
    {
     "data": {
      "text/plain": [
       "array([[12979,    32],\n",
       "       [   72, 14031]], dtype=int64)"
      ]
     },
     "execution_count": 58,
     "metadata": {},
     "output_type": "execute_result"
    }
   ],
   "source": [
    "from sklearn.ensemble import RandomForestClassifier\n",
    "forest=RandomForestClassifier()\n",
    "forestmodel=forest.fit(dt, targettrain)\n",
    "\n",
    "forestpred1=forest.predict(dt)\n",
    "metrics.confusion_matrix(targettrain,forestpred1)"
   ]
  },
  {
   "cell_type": "code",
   "execution_count": 59,
   "id": "a2-FPXrrF93K",
   "metadata": {
    "colab": {
     "base_uri": "https://localhost:8080/"
    },
    "id": "a2-FPXrrF93K",
    "outputId": "d21ab849-7d57-4ddf-a875-cd56c503d01b"
   },
   "outputs": [
    {
     "name": "stdout",
     "output_type": "stream",
     "text": [
      "              precision    recall  f1-score   support\n",
      "\n",
      "           0       0.99      1.00      1.00     13011\n",
      "           1       1.00      0.99      1.00     14103\n",
      "\n",
      "    accuracy                           1.00     27114\n",
      "   macro avg       1.00      1.00      1.00     27114\n",
      "weighted avg       1.00      1.00      1.00     27114\n",
      "\n"
     ]
    }
   ],
   "source": [
    "print(metrics.classification_report(targettrain,forestpred1))\n"
   ]
  },
  {
   "cell_type": "markdown",
   "id": "oBgjZ9WfNmg3",
   "metadata": {
    "id": "oBgjZ9WfNmg3"
   },
   "source": [
    "The training score looks promising!"
   ]
  },
  {
   "cell_type": "markdown",
   "id": "5O87h1kwG6iT",
   "metadata": {
    "id": "5O87h1kwG6iT"
   },
   "source": [
    "Let's test it on the test data!"
   ]
  },
  {
   "cell_type": "code",
   "execution_count": 60,
   "id": "fsJPX2ufG9Be",
   "metadata": {
    "colab": {
     "base_uri": "https://localhost:8080/"
    },
    "id": "fsJPX2ufG9Be",
    "outputId": "cf7efc7d-4739-4ab6-9b20-84d5d9294c3d"
   },
   "outputs": [
    {
     "name": "stdout",
     "output_type": "stream",
     "text": [
      "[[2145 1100]\n",
      " [1116 2418]]\n",
      "              precision    recall  f1-score   support\n",
      "\n",
      "           0       0.66      0.66      0.66      3245\n",
      "           1       0.69      0.68      0.69      3534\n",
      "\n",
      "    accuracy                           0.67      6779\n",
      "   macro avg       0.67      0.67      0.67      6779\n",
      "weighted avg       0.67      0.67      0.67      6779\n",
      "\n"
     ]
    }
   ],
   "source": [
    "forestpred2=forest.predict(dftest2)\n",
    "print(metrics.confusion_matrix(targettest,forestpred2))\n",
    "print(metrics.classification_report(targettest,forestpred2))"
   ]
  },
  {
   "cell_type": "markdown",
   "id": "DvsYSW__Hk3p",
   "metadata": {
    "id": "DvsYSW__Hk3p"
   },
   "source": [
    "Well, that's a big letdown, after a surprisingly good score on the training data!\n",
    "\n",
    "So Let's move on to a Naive Bayes classifier"
   ]
  },
  {
   "cell_type": "code",
   "execution_count": 61,
   "id": "mueG9cAEIKUE",
   "metadata": {
    "colab": {
     "base_uri": "https://localhost:8080/"
    },
    "id": "mueG9cAEIKUE",
    "outputId": "5a37745a-4b1a-47a9-f95f-603ea0dc13ba"
   },
   "outputs": [
    {
     "name": "stdout",
     "output_type": "stream",
     "text": [
      "[[2164 1081]\n",
      " [ 934 2600]]\n",
      "              precision    recall  f1-score   support\n",
      "\n",
      "           0       0.70      0.67      0.68      3245\n",
      "           1       0.71      0.74      0.72      3534\n",
      "\n",
      "    accuracy                           0.70      6779\n",
      "   macro avg       0.70      0.70      0.70      6779\n",
      "weighted avg       0.70      0.70      0.70      6779\n",
      "\n"
     ]
    }
   ],
   "source": [
    "from sklearn.naive_bayes import ComplementNB\n",
    "nb=ComplementNB()\n",
    "nbmodel=nb.fit(dt, targettrain)\n",
    "nbpred=nb.predict(dftest2)\n",
    "print(metrics.confusion_matrix(targettest,nbpred))\n",
    "print(metrics.classification_report(targettest,nbpred))"
   ]
  },
  {
   "cell_type": "markdown",
   "id": "mX86VuH7IvH2",
   "metadata": {
    "id": "mX86VuH7IvH2"
   },
   "source": [
    "About as good as the logistic regression.\n",
    "\n",
    "On to our last attempt- the K Means"
   ]
  },
  {
   "cell_type": "code",
   "execution_count": 62,
   "id": "7MotGe_PI5eA",
   "metadata": {
    "colab": {
     "base_uri": "https://localhost:8080/"
    },
    "id": "7MotGe_PI5eA",
    "outputId": "59d9fa66-b5b7-4e49-bd2a-34af8e753095"
   },
   "outputs": [
    {
     "name": "stdout",
     "output_type": "stream",
     "text": [
      "[[1659 1586]\n",
      " [1659 1875]]\n",
      "              precision    recall  f1-score   support\n",
      "\n",
      "           0       0.50      0.51      0.51      3245\n",
      "           1       0.54      0.53      0.54      3534\n",
      "\n",
      "    accuracy                           0.52      6779\n",
      "   macro avg       0.52      0.52      0.52      6779\n",
      "weighted avg       0.52      0.52      0.52      6779\n",
      "\n"
     ]
    }
   ],
   "source": [
    "from sklearn.cluster import KMeans\n",
    "km=KMeans(n_clusters=2, random_state=1, n_init='auto')\n",
    "kmmodel=km.fit(dt)\n",
    "kmpred=km.predict(dftest2)\n",
    "print(metrics.confusion_matrix(targettest,kmpred))\n",
    "print(metrics.classification_report(targettest,kmpred))"
   ]
  },
  {
   "cell_type": "markdown",
   "id": "cbb8da35",
   "metadata": {
    "id": "u2BA1Fw_HjW8"
   },
   "source": [
    "So the best among those we tried were the logistic regression or the naive Bayes."
   ]
  }
 ],
 "metadata": {
  "colab": {
   "provenance": []
  },
  "kernelspec": {
   "display_name": "Python 3 (ipykernel)",
   "language": "python",
   "name": "python3"
  },
  "language_info": {
   "codemirror_mode": {
    "name": "ipython",
    "version": 3
   },
   "file_extension": ".py",
   "mimetype": "text/x-python",
   "name": "python",
   "nbconvert_exporter": "python",
   "pygments_lexer": "ipython3",
   "version": "3.9.16"
  }
 },
 "nbformat": 4,
 "nbformat_minor": 5
}
